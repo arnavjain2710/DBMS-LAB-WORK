{
 "cells": [
  {
   "cell_type": "code",
   "execution_count": 1,
   "id": "9a225518",
   "metadata": {
    "_cell_guid": "b1076dfc-b9ad-4769-8c92-a6c4dae69d19",
    "_uuid": "8f2839f25d086af736a60e9eeb907d3b93b6e0e5",
    "execution": {
     "iopub.execute_input": "2023-11-02T15:45:17.665503Z",
     "iopub.status.busy": "2023-11-02T15:45:17.665178Z",
     "iopub.status.idle": "2023-11-02T15:45:18.367174Z",
     "shell.execute_reply": "2023-11-02T15:45:18.365715Z"
    },
    "papermill": {
     "duration": 0.714312,
     "end_time": "2023-11-02T15:45:18.369522",
     "exception": false,
     "start_time": "2023-11-02T15:45:17.655210",
     "status": "completed"
    },
    "tags": []
   },
   "outputs": [
    {
     "name": "stdout",
     "output_type": "stream",
     "text": [
      "/kaggle/input/flipkart-dataset/Dataset-SA.csv\n"
     ]
    }
   ],
   "source": [
    "# This Python 3 environment comes with many helpful analytics libraries installed\n",
    "# It is defined by the kaggle/python Docker image: https://github.com/kaggle/docker-python\n",
    "# For example, here's several helpful packages to load\n",
    "\n",
    "import numpy as np # linear algebra\n",
    "import pandas as pd # data processing, CSV file I/O (e.g. pd.read_csv)\n",
    "\n",
    "# Input data files are available in the read-only \"../input/\" directory\n",
    "# For example, running this (by clicking run or pressing Shift+Enter) will list all files under the input directory\n",
    "\n",
    "import os\n",
    "for dirname, _, filenames in os.walk('/kaggle/input'):\n",
    "    for filename in filenames:\n",
    "        print(os.path.join(dirname, filename))\n",
    "\n",
    "# You can write up to 20GB to the current directory (/kaggle/working/) that gets preserved as output when you create a version using \"Save & Run All\" \n",
    "# You can also write temporary files to /kaggle/temp/, but they won't be saved outside of the current session"
   ]
  },
  {
   "cell_type": "code",
   "execution_count": 2,
   "id": "5302f4d8",
   "metadata": {
    "execution": {
     "iopub.execute_input": "2023-11-02T15:45:18.388490Z",
     "iopub.status.busy": "2023-11-02T15:45:18.388082Z",
     "iopub.status.idle": "2023-11-02T15:45:19.297255Z",
     "shell.execute_reply": "2023-11-02T15:45:19.296496Z"
    },
    "papermill": {
     "duration": 0.921133,
     "end_time": "2023-11-02T15:45:19.299618",
     "exception": false,
     "start_time": "2023-11-02T15:45:18.378485",
     "status": "completed"
    },
    "tags": []
   },
   "outputs": [],
   "source": [
    "df = pd.read_csv(\"/kaggle/input/flipkart-dataset/Dataset-SA.csv\")"
   ]
  },
  {
   "cell_type": "code",
   "execution_count": 3,
   "id": "52348842",
   "metadata": {
    "execution": {
     "iopub.execute_input": "2023-11-02T15:45:19.319235Z",
     "iopub.status.busy": "2023-11-02T15:45:19.318624Z",
     "iopub.status.idle": "2023-11-02T15:45:19.336596Z",
     "shell.execute_reply": "2023-11-02T15:45:19.335760Z"
    },
    "papermill": {
     "duration": 0.030138,
     "end_time": "2023-11-02T15:45:19.338696",
     "exception": false,
     "start_time": "2023-11-02T15:45:19.308558",
     "status": "completed"
    },
    "tags": []
   },
   "outputs": [
    {
     "data": {
      "text/html": [
       "<div>\n",
       "<style scoped>\n",
       "    .dataframe tbody tr th:only-of-type {\n",
       "        vertical-align: middle;\n",
       "    }\n",
       "\n",
       "    .dataframe tbody tr th {\n",
       "        vertical-align: top;\n",
       "    }\n",
       "\n",
       "    .dataframe thead th {\n",
       "        text-align: right;\n",
       "    }\n",
       "</style>\n",
       "<table border=\"1\" class=\"dataframe\">\n",
       "  <thead>\n",
       "    <tr style=\"text-align: right;\">\n",
       "      <th></th>\n",
       "      <th>product_name</th>\n",
       "      <th>product_price</th>\n",
       "      <th>Rate</th>\n",
       "      <th>Review</th>\n",
       "      <th>Summary</th>\n",
       "      <th>Sentiment</th>\n",
       "    </tr>\n",
       "  </thead>\n",
       "  <tbody>\n",
       "    <tr>\n",
       "      <th>0</th>\n",
       "      <td>Candes 12 L Room/Personal Air Cooler??????(Whi...</td>\n",
       "      <td>3999</td>\n",
       "      <td>5</td>\n",
       "      <td>super!</td>\n",
       "      <td>great cooler excellent air flow and for this p...</td>\n",
       "      <td>positive</td>\n",
       "    </tr>\n",
       "    <tr>\n",
       "      <th>1</th>\n",
       "      <td>Candes 12 L Room/Personal Air Cooler??????(Whi...</td>\n",
       "      <td>3999</td>\n",
       "      <td>5</td>\n",
       "      <td>awesome</td>\n",
       "      <td>best budget 2 fit cooler nice cooling</td>\n",
       "      <td>positive</td>\n",
       "    </tr>\n",
       "    <tr>\n",
       "      <th>2</th>\n",
       "      <td>Candes 12 L Room/Personal Air Cooler??????(Whi...</td>\n",
       "      <td>3999</td>\n",
       "      <td>3</td>\n",
       "      <td>fair</td>\n",
       "      <td>the quality is good but the power of air is de...</td>\n",
       "      <td>positive</td>\n",
       "    </tr>\n",
       "    <tr>\n",
       "      <th>3</th>\n",
       "      <td>Candes 12 L Room/Personal Air Cooler??????(Whi...</td>\n",
       "      <td>3999</td>\n",
       "      <td>1</td>\n",
       "      <td>useless product</td>\n",
       "      <td>very bad product its a only a fan</td>\n",
       "      <td>negative</td>\n",
       "    </tr>\n",
       "    <tr>\n",
       "      <th>4</th>\n",
       "      <td>Candes 12 L Room/Personal Air Cooler??????(Whi...</td>\n",
       "      <td>3999</td>\n",
       "      <td>3</td>\n",
       "      <td>fair</td>\n",
       "      <td>ok ok product</td>\n",
       "      <td>neutral</td>\n",
       "    </tr>\n",
       "  </tbody>\n",
       "</table>\n",
       "</div>"
      ],
      "text/plain": [
       "                                        product_name product_price Rate  \\\n",
       "0  Candes 12 L Room/Personal Air Cooler??????(Whi...          3999    5   \n",
       "1  Candes 12 L Room/Personal Air Cooler??????(Whi...          3999    5   \n",
       "2  Candes 12 L Room/Personal Air Cooler??????(Whi...          3999    3   \n",
       "3  Candes 12 L Room/Personal Air Cooler??????(Whi...          3999    1   \n",
       "4  Candes 12 L Room/Personal Air Cooler??????(Whi...          3999    3   \n",
       "\n",
       "            Review                                            Summary  \\\n",
       "0           super!  great cooler excellent air flow and for this p...   \n",
       "1          awesome              best budget 2 fit cooler nice cooling   \n",
       "2             fair  the quality is good but the power of air is de...   \n",
       "3  useless product                  very bad product its a only a fan   \n",
       "4             fair                                      ok ok product   \n",
       "\n",
       "  Sentiment  \n",
       "0  positive  \n",
       "1  positive  \n",
       "2  positive  \n",
       "3  negative  \n",
       "4   neutral  "
      ]
     },
     "execution_count": 3,
     "metadata": {},
     "output_type": "execute_result"
    }
   ],
   "source": [
    "df.head()"
   ]
  },
  {
   "cell_type": "code",
   "execution_count": 4,
   "id": "16a98091",
   "metadata": {
    "execution": {
     "iopub.execute_input": "2023-11-02T15:45:19.357427Z",
     "iopub.status.busy": "2023-11-02T15:45:19.356858Z",
     "iopub.status.idle": "2023-11-02T15:45:21.201624Z",
     "shell.execute_reply": "2023-11-02T15:45:21.200787Z"
    },
    "papermill": {
     "duration": 1.856636,
     "end_time": "2023-11-02T15:45:21.203975",
     "exception": false,
     "start_time": "2023-11-02T15:45:19.347339",
     "status": "completed"
    },
    "tags": []
   },
   "outputs": [
    {
     "name": "stderr",
     "output_type": "stream",
     "text": [
      "/opt/conda/lib/python3.10/site-packages/scipy/__init__.py:146: UserWarning: A NumPy version >=1.16.5 and <1.23.0 is required for this version of SciPy (detected version 1.23.5\n",
      "  warnings.warn(f\"A NumPy version >={np_minversion} and <{np_maxversion}\"\n"
     ]
    }
   ],
   "source": [
    "import numpy as np # linear algebra\n",
    "import pandas as pd # data processing, CSV file I/O (e.g. pd.read_csv)\n",
    "import seaborn as sns\n",
    "import ast\n",
    "import matplotlib.pyplot as plt\n",
    "import nltk\n",
    "from nltk.corpus import stopwords\n",
    "from nltk.stem.snowball import SnowballStemmer\n",
    "import re\n",
    "import sys\n",
    "import warnings\n",
    "from sklearn.model_selection import train_test_split\n",
    "from sklearn.feature_extraction.text import TfidfVectorizer"
   ]
  },
  {
   "cell_type": "code",
   "execution_count": 5,
   "id": "b3cdfd7c",
   "metadata": {
    "execution": {
     "iopub.execute_input": "2023-11-02T15:45:21.223137Z",
     "iopub.status.busy": "2023-11-02T15:45:21.222852Z",
     "iopub.status.idle": "2023-11-02T15:45:21.269473Z",
     "shell.execute_reply": "2023-11-02T15:45:21.268763Z"
    },
    "papermill": {
     "duration": 0.058184,
     "end_time": "2023-11-02T15:45:21.271368",
     "exception": false,
     "start_time": "2023-11-02T15:45:21.213184",
     "status": "completed"
    },
    "tags": []
   },
   "outputs": [],
   "source": [
    "df = df[df['Summary'].notnull()]"
   ]
  },
  {
   "cell_type": "code",
   "execution_count": 6,
   "id": "0de0d4d6",
   "metadata": {
    "execution": {
     "iopub.execute_input": "2023-11-02T15:45:21.291179Z",
     "iopub.status.busy": "2023-11-02T15:45:21.290915Z",
     "iopub.status.idle": "2023-11-02T15:45:21.416049Z",
     "shell.execute_reply": "2023-11-02T15:45:21.415363Z"
    },
    "papermill": {
     "duration": 0.137612,
     "end_time": "2023-11-02T15:45:21.418096",
     "exception": false,
     "start_time": "2023-11-02T15:45:21.280484",
     "status": "completed"
    },
    "tags": []
   },
   "outputs": [],
   "source": [
    "categories = []\n",
    "for x in df['Sentiment']:\n",
    "    y = x.split()\n",
    "    for item in y:\n",
    "        categories.append(item)"
   ]
  },
  {
   "cell_type": "code",
   "execution_count": 7,
   "id": "9aaaa701",
   "metadata": {
    "execution": {
     "iopub.execute_input": "2023-11-02T15:45:21.436946Z",
     "iopub.status.busy": "2023-11-02T15:45:21.436693Z",
     "iopub.status.idle": "2023-11-02T15:45:21.446658Z",
     "shell.execute_reply": "2023-11-02T15:45:21.445845Z"
    },
    "papermill": {
     "duration": 0.021395,
     "end_time": "2023-11-02T15:45:21.448564",
     "exception": false,
     "start_time": "2023-11-02T15:45:21.427169",
     "status": "completed"
    },
    "tags": []
   },
   "outputs": [],
   "source": [
    "categories = list(dict.fromkeys(categories))"
   ]
  },
  {
   "cell_type": "code",
   "execution_count": 8,
   "id": "eb73cb53",
   "metadata": {
    "execution": {
     "iopub.execute_input": "2023-11-02T15:45:21.467295Z",
     "iopub.status.busy": "2023-11-02T15:45:21.467011Z",
     "iopub.status.idle": "2023-11-02T15:45:21.472538Z",
     "shell.execute_reply": "2023-11-02T15:45:21.471672Z"
    },
    "papermill": {
     "duration": 0.017021,
     "end_time": "2023-11-02T15:45:21.474383",
     "exception": false,
     "start_time": "2023-11-02T15:45:21.457362",
     "status": "completed"
    },
    "tags": []
   },
   "outputs": [
    {
     "data": {
      "text/plain": [
       "['positive', 'negative', 'neutral']"
      ]
     },
     "execution_count": 8,
     "metadata": {},
     "output_type": "execute_result"
    }
   ],
   "source": [
    "categories"
   ]
  },
  {
   "cell_type": "code",
   "execution_count": 9,
   "id": "002be116",
   "metadata": {
    "execution": {
     "iopub.execute_input": "2023-11-02T15:45:21.494560Z",
     "iopub.status.busy": "2023-11-02T15:45:21.494131Z",
     "iopub.status.idle": "2023-11-02T15:45:21.500918Z",
     "shell.execute_reply": "2023-11-02T15:45:21.500047Z"
    },
    "papermill": {
     "duration": 0.020236,
     "end_time": "2023-11-02T15:45:21.503506",
     "exception": false,
     "start_time": "2023-11-02T15:45:21.483270",
     "status": "completed"
    },
    "tags": []
   },
   "outputs": [],
   "source": [
    "df2 = pd.DataFrame(columns=categories)"
   ]
  },
  {
   "cell_type": "code",
   "execution_count": 10,
   "id": "fbe6864d",
   "metadata": {
    "execution": {
     "iopub.execute_input": "2023-11-02T15:45:21.527723Z",
     "iopub.status.busy": "2023-11-02T15:45:21.527395Z",
     "iopub.status.idle": "2023-11-02T15:53:56.143433Z",
     "shell.execute_reply": "2023-11-02T15:53:56.142437Z"
    },
    "papermill": {
     "duration": 514.630592,
     "end_time": "2023-11-02T15:53:56.145949",
     "exception": false,
     "start_time": "2023-11-02T15:45:21.515357",
     "status": "completed"
    },
    "tags": []
   },
   "outputs": [],
   "source": [
    "# one-hot-encoding the categories\n",
    "for x, idx in zip(df['Sentiment'], range(0, df.shape[0])):\n",
    "    y = x.split()\n",
    "    row = []\n",
    "    for item in df2.columns:\n",
    "        if item in y:\n",
    "            row.append(1)\n",
    "        else:\n",
    "            row.append(0)\n",
    "    df2.loc[idx] = row"
   ]
  },
  {
   "cell_type": "code",
   "execution_count": 11,
   "id": "10440563",
   "metadata": {
    "execution": {
     "iopub.execute_input": "2023-11-02T15:53:56.165426Z",
     "iopub.status.busy": "2023-11-02T15:53:56.165130Z",
     "iopub.status.idle": "2023-11-02T15:53:56.175205Z",
     "shell.execute_reply": "2023-11-02T15:53:56.174297Z"
    },
    "papermill": {
     "duration": 0.021987,
     "end_time": "2023-11-02T15:53:56.177185",
     "exception": false,
     "start_time": "2023-11-02T15:53:56.155198",
     "status": "completed"
    },
    "tags": []
   },
   "outputs": [
    {
     "data": {
      "text/html": [
       "<div>\n",
       "<style scoped>\n",
       "    .dataframe tbody tr th:only-of-type {\n",
       "        vertical-align: middle;\n",
       "    }\n",
       "\n",
       "    .dataframe tbody tr th {\n",
       "        vertical-align: top;\n",
       "    }\n",
       "\n",
       "    .dataframe thead th {\n",
       "        text-align: right;\n",
       "    }\n",
       "</style>\n",
       "<table border=\"1\" class=\"dataframe\">\n",
       "  <thead>\n",
       "    <tr style=\"text-align: right;\">\n",
       "      <th></th>\n",
       "      <th>positive</th>\n",
       "      <th>negative</th>\n",
       "      <th>neutral</th>\n",
       "    </tr>\n",
       "  </thead>\n",
       "  <tbody>\n",
       "    <tr>\n",
       "      <th>0</th>\n",
       "      <td>1</td>\n",
       "      <td>0</td>\n",
       "      <td>0</td>\n",
       "    </tr>\n",
       "    <tr>\n",
       "      <th>1</th>\n",
       "      <td>1</td>\n",
       "      <td>0</td>\n",
       "      <td>0</td>\n",
       "    </tr>\n",
       "    <tr>\n",
       "      <th>2</th>\n",
       "      <td>1</td>\n",
       "      <td>0</td>\n",
       "      <td>0</td>\n",
       "    </tr>\n",
       "    <tr>\n",
       "      <th>3</th>\n",
       "      <td>0</td>\n",
       "      <td>1</td>\n",
       "      <td>0</td>\n",
       "    </tr>\n",
       "    <tr>\n",
       "      <th>4</th>\n",
       "      <td>0</td>\n",
       "      <td>0</td>\n",
       "      <td>1</td>\n",
       "    </tr>\n",
       "    <tr>\n",
       "      <th>...</th>\n",
       "      <td>...</td>\n",
       "      <td>...</td>\n",
       "      <td>...</td>\n",
       "    </tr>\n",
       "    <tr>\n",
       "      <th>205036</th>\n",
       "      <td>1</td>\n",
       "      <td>0</td>\n",
       "      <td>0</td>\n",
       "    </tr>\n",
       "    <tr>\n",
       "      <th>205037</th>\n",
       "      <td>1</td>\n",
       "      <td>0</td>\n",
       "      <td>0</td>\n",
       "    </tr>\n",
       "    <tr>\n",
       "      <th>205038</th>\n",
       "      <td>1</td>\n",
       "      <td>0</td>\n",
       "      <td>0</td>\n",
       "    </tr>\n",
       "    <tr>\n",
       "      <th>205039</th>\n",
       "      <td>1</td>\n",
       "      <td>0</td>\n",
       "      <td>0</td>\n",
       "    </tr>\n",
       "    <tr>\n",
       "      <th>205040</th>\n",
       "      <td>0</td>\n",
       "      <td>0</td>\n",
       "      <td>1</td>\n",
       "    </tr>\n",
       "  </tbody>\n",
       "</table>\n",
       "<p>205041 rows × 3 columns</p>\n",
       "</div>"
      ],
      "text/plain": [
       "        positive  negative  neutral\n",
       "0              1         0        0\n",
       "1              1         0        0\n",
       "2              1         0        0\n",
       "3              0         1        0\n",
       "4              0         0        1\n",
       "...          ...       ...      ...\n",
       "205036         1         0        0\n",
       "205037         1         0        0\n",
       "205038         1         0        0\n",
       "205039         1         0        0\n",
       "205040         0         0        1\n",
       "\n",
       "[205041 rows x 3 columns]"
      ]
     },
     "execution_count": 11,
     "metadata": {},
     "output_type": "execute_result"
    }
   ],
   "source": [
    "df2"
   ]
  },
  {
   "cell_type": "code",
   "execution_count": 12,
   "id": "3026b8c5",
   "metadata": {
    "execution": {
     "iopub.execute_input": "2023-11-02T15:53:56.196706Z",
     "iopub.status.busy": "2023-11-02T15:53:56.196413Z",
     "iopub.status.idle": "2023-11-02T15:53:56.365748Z",
     "shell.execute_reply": "2023-11-02T15:53:56.364727Z"
    },
    "papermill": {
     "duration": 0.181754,
     "end_time": "2023-11-02T15:53:56.368104",
     "exception": false,
     "start_time": "2023-11-02T15:53:56.186350",
     "status": "completed"
    },
    "tags": []
   },
   "outputs": [],
   "source": [
    "df3 = pd.concat([df, df2], axis=1).reindex(df2.index)"
   ]
  },
  {
   "cell_type": "code",
   "execution_count": 13,
   "id": "e0dffaf0",
   "metadata": {
    "execution": {
     "iopub.execute_input": "2023-11-02T15:53:56.389160Z",
     "iopub.status.busy": "2023-11-02T15:53:56.388838Z",
     "iopub.status.idle": "2023-11-02T15:53:56.409091Z",
     "shell.execute_reply": "2023-11-02T15:53:56.408436Z"
    },
    "papermill": {
     "duration": 0.033224,
     "end_time": "2023-11-02T15:53:56.411090",
     "exception": false,
     "start_time": "2023-11-02T15:53:56.377866",
     "status": "completed"
    },
    "tags": []
   },
   "outputs": [
    {
     "data": {
      "text/html": [
       "<div>\n",
       "<style scoped>\n",
       "    .dataframe tbody tr th:only-of-type {\n",
       "        vertical-align: middle;\n",
       "    }\n",
       "\n",
       "    .dataframe tbody tr th {\n",
       "        vertical-align: top;\n",
       "    }\n",
       "\n",
       "    .dataframe thead th {\n",
       "        text-align: right;\n",
       "    }\n",
       "</style>\n",
       "<table border=\"1\" class=\"dataframe\">\n",
       "  <thead>\n",
       "    <tr style=\"text-align: right;\">\n",
       "      <th></th>\n",
       "      <th>product_name</th>\n",
       "      <th>product_price</th>\n",
       "      <th>Rate</th>\n",
       "      <th>Review</th>\n",
       "      <th>Summary</th>\n",
       "      <th>Sentiment</th>\n",
       "      <th>positive</th>\n",
       "      <th>negative</th>\n",
       "      <th>neutral</th>\n",
       "    </tr>\n",
       "  </thead>\n",
       "  <tbody>\n",
       "    <tr>\n",
       "      <th>0</th>\n",
       "      <td>Candes 12 L Room/Personal Air Cooler??????(Whi...</td>\n",
       "      <td>3999</td>\n",
       "      <td>5</td>\n",
       "      <td>super!</td>\n",
       "      <td>great cooler excellent air flow and for this p...</td>\n",
       "      <td>positive</td>\n",
       "      <td>1.0</td>\n",
       "      <td>0.0</td>\n",
       "      <td>0.0</td>\n",
       "    </tr>\n",
       "    <tr>\n",
       "      <th>1</th>\n",
       "      <td>Candes 12 L Room/Personal Air Cooler??????(Whi...</td>\n",
       "      <td>3999</td>\n",
       "      <td>5</td>\n",
       "      <td>awesome</td>\n",
       "      <td>best budget 2 fit cooler nice cooling</td>\n",
       "      <td>positive</td>\n",
       "      <td>1.0</td>\n",
       "      <td>0.0</td>\n",
       "      <td>0.0</td>\n",
       "    </tr>\n",
       "    <tr>\n",
       "      <th>2</th>\n",
       "      <td>Candes 12 L Room/Personal Air Cooler??????(Whi...</td>\n",
       "      <td>3999</td>\n",
       "      <td>3</td>\n",
       "      <td>fair</td>\n",
       "      <td>the quality is good but the power of air is de...</td>\n",
       "      <td>positive</td>\n",
       "      <td>1.0</td>\n",
       "      <td>0.0</td>\n",
       "      <td>0.0</td>\n",
       "    </tr>\n",
       "    <tr>\n",
       "      <th>3</th>\n",
       "      <td>Candes 12 L Room/Personal Air Cooler??????(Whi...</td>\n",
       "      <td>3999</td>\n",
       "      <td>1</td>\n",
       "      <td>useless product</td>\n",
       "      <td>very bad product its a only a fan</td>\n",
       "      <td>negative</td>\n",
       "      <td>0.0</td>\n",
       "      <td>1.0</td>\n",
       "      <td>0.0</td>\n",
       "    </tr>\n",
       "    <tr>\n",
       "      <th>4</th>\n",
       "      <td>Candes 12 L Room/Personal Air Cooler??????(Whi...</td>\n",
       "      <td>3999</td>\n",
       "      <td>3</td>\n",
       "      <td>fair</td>\n",
       "      <td>ok ok product</td>\n",
       "      <td>neutral</td>\n",
       "      <td>0.0</td>\n",
       "      <td>0.0</td>\n",
       "      <td>1.0</td>\n",
       "    </tr>\n",
       "    <tr>\n",
       "      <th>...</th>\n",
       "      <td>...</td>\n",
       "      <td>...</td>\n",
       "      <td>...</td>\n",
       "      <td>...</td>\n",
       "      <td>...</td>\n",
       "      <td>...</td>\n",
       "      <td>...</td>\n",
       "      <td>...</td>\n",
       "      <td>...</td>\n",
       "    </tr>\n",
       "    <tr>\n",
       "      <th>205036</th>\n",
       "      <td>cello Pack of 18 Opalware Cello Dazzle Lush Fi...</td>\n",
       "      <td>1299</td>\n",
       "      <td>5</td>\n",
       "      <td>great product</td>\n",
       "      <td>good product</td>\n",
       "      <td>positive</td>\n",
       "      <td>1.0</td>\n",
       "      <td>0.0</td>\n",
       "      <td>0.0</td>\n",
       "    </tr>\n",
       "    <tr>\n",
       "      <th>205037</th>\n",
       "      <td>cello Pack of 18 Opalware Cello Dazzle Lush Fi...</td>\n",
       "      <td>1299</td>\n",
       "      <td>5</td>\n",
       "      <td>terrific</td>\n",
       "      <td>small but good</td>\n",
       "      <td>positive</td>\n",
       "      <td>1.0</td>\n",
       "      <td>0.0</td>\n",
       "      <td>0.0</td>\n",
       "    </tr>\n",
       "    <tr>\n",
       "      <th>205038</th>\n",
       "      <td>cello Pack of 18 Opalware Cello Dazzle Lush Fi...</td>\n",
       "      <td>1299</td>\n",
       "      <td>5</td>\n",
       "      <td>fabulous!</td>\n",
       "      <td>nice i gifted it</td>\n",
       "      <td>positive</td>\n",
       "      <td>1.0</td>\n",
       "      <td>0.0</td>\n",
       "      <td>0.0</td>\n",
       "    </tr>\n",
       "    <tr>\n",
       "      <th>205039</th>\n",
       "      <td>cello Pack of 18 Opalware Cello Dazzle Lush Fi...</td>\n",
       "      <td>1299</td>\n",
       "      <td>5</td>\n",
       "      <td>terrific</td>\n",
       "      <td>superb i really like it</td>\n",
       "      <td>positive</td>\n",
       "      <td>1.0</td>\n",
       "      <td>0.0</td>\n",
       "      <td>0.0</td>\n",
       "    </tr>\n",
       "    <tr>\n",
       "      <th>205040</th>\n",
       "      <td>cello Pack of 18 Opalware Cello Dazzle Lush Fi...</td>\n",
       "      <td>1299</td>\n",
       "      <td>5</td>\n",
       "      <td>classy product</td>\n",
       "      <td>fabulous looking osm</td>\n",
       "      <td>positive</td>\n",
       "      <td>0.0</td>\n",
       "      <td>0.0</td>\n",
       "      <td>1.0</td>\n",
       "    </tr>\n",
       "  </tbody>\n",
       "</table>\n",
       "<p>205041 rows × 9 columns</p>\n",
       "</div>"
      ],
      "text/plain": [
       "                                             product_name product_price Rate  \\\n",
       "0       Candes 12 L Room/Personal Air Cooler??????(Whi...          3999    5   \n",
       "1       Candes 12 L Room/Personal Air Cooler??????(Whi...          3999    5   \n",
       "2       Candes 12 L Room/Personal Air Cooler??????(Whi...          3999    3   \n",
       "3       Candes 12 L Room/Personal Air Cooler??????(Whi...          3999    1   \n",
       "4       Candes 12 L Room/Personal Air Cooler??????(Whi...          3999    3   \n",
       "...                                                   ...           ...  ...   \n",
       "205036  cello Pack of 18 Opalware Cello Dazzle Lush Fi...          1299    5   \n",
       "205037  cello Pack of 18 Opalware Cello Dazzle Lush Fi...          1299    5   \n",
       "205038  cello Pack of 18 Opalware Cello Dazzle Lush Fi...          1299    5   \n",
       "205039  cello Pack of 18 Opalware Cello Dazzle Lush Fi...          1299    5   \n",
       "205040  cello Pack of 18 Opalware Cello Dazzle Lush Fi...          1299    5   \n",
       "\n",
       "                 Review                                            Summary  \\\n",
       "0                super!  great cooler excellent air flow and for this p...   \n",
       "1               awesome              best budget 2 fit cooler nice cooling   \n",
       "2                  fair  the quality is good but the power of air is de...   \n",
       "3       useless product                  very bad product its a only a fan   \n",
       "4                  fair                                      ok ok product   \n",
       "...                 ...                                                ...   \n",
       "205036    great product                                       good product   \n",
       "205037         terrific                                     small but good   \n",
       "205038        fabulous!                                   nice i gifted it   \n",
       "205039         terrific                            superb i really like it   \n",
       "205040   classy product                               fabulous looking osm   \n",
       "\n",
       "       Sentiment  positive  negative  neutral  \n",
       "0       positive       1.0       0.0      0.0  \n",
       "1       positive       1.0       0.0      0.0  \n",
       "2       positive       1.0       0.0      0.0  \n",
       "3       negative       0.0       1.0      0.0  \n",
       "4        neutral       0.0       0.0      1.0  \n",
       "...          ...       ...       ...      ...  \n",
       "205036  positive       1.0       0.0      0.0  \n",
       "205037  positive       1.0       0.0      0.0  \n",
       "205038  positive       1.0       0.0      0.0  \n",
       "205039  positive       1.0       0.0      0.0  \n",
       "205040  positive       0.0       0.0      1.0  \n",
       "\n",
       "[205041 rows x 9 columns]"
      ]
     },
     "execution_count": 13,
     "metadata": {},
     "output_type": "execute_result"
    }
   ],
   "source": [
    "df3\n"
   ]
  },
  {
   "cell_type": "code",
   "execution_count": 14,
   "id": "eb6270f5",
   "metadata": {
    "execution": {
     "iopub.execute_input": "2023-11-02T15:53:56.431132Z",
     "iopub.status.busy": "2023-11-02T15:53:56.430852Z",
     "iopub.status.idle": "2023-11-02T15:53:56.443979Z",
     "shell.execute_reply": "2023-11-02T15:53:56.443108Z"
    },
    "papermill": {
     "duration": 0.025481,
     "end_time": "2023-11-02T15:53:56.446028",
     "exception": false,
     "start_time": "2023-11-02T15:53:56.420547",
     "status": "completed"
    },
    "tags": []
   },
   "outputs": [],
   "source": [
    "final_df = df3.drop(['Sentiment'], axis=1)"
   ]
  },
  {
   "cell_type": "code",
   "execution_count": 15,
   "id": "d5253cb1",
   "metadata": {
    "execution": {
     "iopub.execute_input": "2023-11-02T15:53:56.466370Z",
     "iopub.status.busy": "2023-11-02T15:53:56.466093Z",
     "iopub.status.idle": "2023-11-02T15:53:56.483693Z",
     "shell.execute_reply": "2023-11-02T15:53:56.482819Z"
    },
    "papermill": {
     "duration": 0.02996,
     "end_time": "2023-11-02T15:53:56.485665",
     "exception": false,
     "start_time": "2023-11-02T15:53:56.455705",
     "status": "completed"
    },
    "tags": []
   },
   "outputs": [
    {
     "data": {
      "text/html": [
       "<div>\n",
       "<style scoped>\n",
       "    .dataframe tbody tr th:only-of-type {\n",
       "        vertical-align: middle;\n",
       "    }\n",
       "\n",
       "    .dataframe tbody tr th {\n",
       "        vertical-align: top;\n",
       "    }\n",
       "\n",
       "    .dataframe thead th {\n",
       "        text-align: right;\n",
       "    }\n",
       "</style>\n",
       "<table border=\"1\" class=\"dataframe\">\n",
       "  <thead>\n",
       "    <tr style=\"text-align: right;\">\n",
       "      <th></th>\n",
       "      <th>product_name</th>\n",
       "      <th>product_price</th>\n",
       "      <th>Rate</th>\n",
       "      <th>Review</th>\n",
       "      <th>Summary</th>\n",
       "      <th>positive</th>\n",
       "      <th>negative</th>\n",
       "      <th>neutral</th>\n",
       "    </tr>\n",
       "  </thead>\n",
       "  <tbody>\n",
       "    <tr>\n",
       "      <th>0</th>\n",
       "      <td>Candes 12 L Room/Personal Air Cooler??????(Whi...</td>\n",
       "      <td>3999</td>\n",
       "      <td>5</td>\n",
       "      <td>super!</td>\n",
       "      <td>great cooler excellent air flow and for this p...</td>\n",
       "      <td>1.0</td>\n",
       "      <td>0.0</td>\n",
       "      <td>0.0</td>\n",
       "    </tr>\n",
       "    <tr>\n",
       "      <th>1</th>\n",
       "      <td>Candes 12 L Room/Personal Air Cooler??????(Whi...</td>\n",
       "      <td>3999</td>\n",
       "      <td>5</td>\n",
       "      <td>awesome</td>\n",
       "      <td>best budget 2 fit cooler nice cooling</td>\n",
       "      <td>1.0</td>\n",
       "      <td>0.0</td>\n",
       "      <td>0.0</td>\n",
       "    </tr>\n",
       "    <tr>\n",
       "      <th>2</th>\n",
       "      <td>Candes 12 L Room/Personal Air Cooler??????(Whi...</td>\n",
       "      <td>3999</td>\n",
       "      <td>3</td>\n",
       "      <td>fair</td>\n",
       "      <td>the quality is good but the power of air is de...</td>\n",
       "      <td>1.0</td>\n",
       "      <td>0.0</td>\n",
       "      <td>0.0</td>\n",
       "    </tr>\n",
       "    <tr>\n",
       "      <th>3</th>\n",
       "      <td>Candes 12 L Room/Personal Air Cooler??????(Whi...</td>\n",
       "      <td>3999</td>\n",
       "      <td>1</td>\n",
       "      <td>useless product</td>\n",
       "      <td>very bad product its a only a fan</td>\n",
       "      <td>0.0</td>\n",
       "      <td>1.0</td>\n",
       "      <td>0.0</td>\n",
       "    </tr>\n",
       "    <tr>\n",
       "      <th>4</th>\n",
       "      <td>Candes 12 L Room/Personal Air Cooler??????(Whi...</td>\n",
       "      <td>3999</td>\n",
       "      <td>3</td>\n",
       "      <td>fair</td>\n",
       "      <td>ok ok product</td>\n",
       "      <td>0.0</td>\n",
       "      <td>0.0</td>\n",
       "      <td>1.0</td>\n",
       "    </tr>\n",
       "    <tr>\n",
       "      <th>...</th>\n",
       "      <td>...</td>\n",
       "      <td>...</td>\n",
       "      <td>...</td>\n",
       "      <td>...</td>\n",
       "      <td>...</td>\n",
       "      <td>...</td>\n",
       "      <td>...</td>\n",
       "      <td>...</td>\n",
       "    </tr>\n",
       "    <tr>\n",
       "      <th>205036</th>\n",
       "      <td>cello Pack of 18 Opalware Cello Dazzle Lush Fi...</td>\n",
       "      <td>1299</td>\n",
       "      <td>5</td>\n",
       "      <td>great product</td>\n",
       "      <td>good product</td>\n",
       "      <td>1.0</td>\n",
       "      <td>0.0</td>\n",
       "      <td>0.0</td>\n",
       "    </tr>\n",
       "    <tr>\n",
       "      <th>205037</th>\n",
       "      <td>cello Pack of 18 Opalware Cello Dazzle Lush Fi...</td>\n",
       "      <td>1299</td>\n",
       "      <td>5</td>\n",
       "      <td>terrific</td>\n",
       "      <td>small but good</td>\n",
       "      <td>1.0</td>\n",
       "      <td>0.0</td>\n",
       "      <td>0.0</td>\n",
       "    </tr>\n",
       "    <tr>\n",
       "      <th>205038</th>\n",
       "      <td>cello Pack of 18 Opalware Cello Dazzle Lush Fi...</td>\n",
       "      <td>1299</td>\n",
       "      <td>5</td>\n",
       "      <td>fabulous!</td>\n",
       "      <td>nice i gifted it</td>\n",
       "      <td>1.0</td>\n",
       "      <td>0.0</td>\n",
       "      <td>0.0</td>\n",
       "    </tr>\n",
       "    <tr>\n",
       "      <th>205039</th>\n",
       "      <td>cello Pack of 18 Opalware Cello Dazzle Lush Fi...</td>\n",
       "      <td>1299</td>\n",
       "      <td>5</td>\n",
       "      <td>terrific</td>\n",
       "      <td>superb i really like it</td>\n",
       "      <td>1.0</td>\n",
       "      <td>0.0</td>\n",
       "      <td>0.0</td>\n",
       "    </tr>\n",
       "    <tr>\n",
       "      <th>205040</th>\n",
       "      <td>cello Pack of 18 Opalware Cello Dazzle Lush Fi...</td>\n",
       "      <td>1299</td>\n",
       "      <td>5</td>\n",
       "      <td>classy product</td>\n",
       "      <td>fabulous looking osm</td>\n",
       "      <td>0.0</td>\n",
       "      <td>0.0</td>\n",
       "      <td>1.0</td>\n",
       "    </tr>\n",
       "  </tbody>\n",
       "</table>\n",
       "<p>205041 rows × 8 columns</p>\n",
       "</div>"
      ],
      "text/plain": [
       "                                             product_name product_price Rate  \\\n",
       "0       Candes 12 L Room/Personal Air Cooler??????(Whi...          3999    5   \n",
       "1       Candes 12 L Room/Personal Air Cooler??????(Whi...          3999    5   \n",
       "2       Candes 12 L Room/Personal Air Cooler??????(Whi...          3999    3   \n",
       "3       Candes 12 L Room/Personal Air Cooler??????(Whi...          3999    1   \n",
       "4       Candes 12 L Room/Personal Air Cooler??????(Whi...          3999    3   \n",
       "...                                                   ...           ...  ...   \n",
       "205036  cello Pack of 18 Opalware Cello Dazzle Lush Fi...          1299    5   \n",
       "205037  cello Pack of 18 Opalware Cello Dazzle Lush Fi...          1299    5   \n",
       "205038  cello Pack of 18 Opalware Cello Dazzle Lush Fi...          1299    5   \n",
       "205039  cello Pack of 18 Opalware Cello Dazzle Lush Fi...          1299    5   \n",
       "205040  cello Pack of 18 Opalware Cello Dazzle Lush Fi...          1299    5   \n",
       "\n",
       "                 Review                                            Summary  \\\n",
       "0                super!  great cooler excellent air flow and for this p...   \n",
       "1               awesome              best budget 2 fit cooler nice cooling   \n",
       "2                  fair  the quality is good but the power of air is de...   \n",
       "3       useless product                  very bad product its a only a fan   \n",
       "4                  fair                                      ok ok product   \n",
       "...                 ...                                                ...   \n",
       "205036    great product                                       good product   \n",
       "205037         terrific                                     small but good   \n",
       "205038        fabulous!                                   nice i gifted it   \n",
       "205039         terrific                            superb i really like it   \n",
       "205040   classy product                               fabulous looking osm   \n",
       "\n",
       "        positive  negative  neutral  \n",
       "0            1.0       0.0      0.0  \n",
       "1            1.0       0.0      0.0  \n",
       "2            1.0       0.0      0.0  \n",
       "3            0.0       1.0      0.0  \n",
       "4            0.0       0.0      1.0  \n",
       "...          ...       ...      ...  \n",
       "205036       1.0       0.0      0.0  \n",
       "205037       1.0       0.0      0.0  \n",
       "205038       1.0       0.0      0.0  \n",
       "205039       1.0       0.0      0.0  \n",
       "205040       0.0       0.0      1.0  \n",
       "\n",
       "[205041 rows x 8 columns]"
      ]
     },
     "execution_count": 15,
     "metadata": {},
     "output_type": "execute_result"
    }
   ],
   "source": [
    "final_df"
   ]
  },
  {
   "cell_type": "code",
   "execution_count": 16,
   "id": "7080b436",
   "metadata": {
    "execution": {
     "iopub.execute_input": "2023-11-02T15:53:56.506698Z",
     "iopub.status.busy": "2023-11-02T15:53:56.506426Z",
     "iopub.status.idle": "2023-11-02T15:53:56.515268Z",
     "shell.execute_reply": "2023-11-02T15:53:56.514428Z"
    },
    "papermill": {
     "duration": 0.021411,
     "end_time": "2023-11-02T15:53:56.517166",
     "exception": false,
     "start_time": "2023-11-02T15:53:56.495755",
     "status": "completed"
    },
    "tags": []
   },
   "outputs": [],
   "source": [
    "# pre-processing the data\n",
    "def decontract(sentence):\n",
    "    # specific\n",
    "    sentence = re.sub(r\"won't\", \"will not\", str(sentence))\n",
    "    sentence = re.sub(r\"can\\'t\", \"can not\", sentence)\n",
    "\n",
    "    # general\n",
    "    sentence = re.sub(r\"n\\'t\", \" not\", sentence)\n",
    "    sentence = re.sub(r\"\\'re\", \" are\", sentence)\n",
    "    sentence = re.sub(r\"\\'s\", \" is\", sentence)\n",
    "    sentence = re.sub(r\"\\'d\", \" would\", sentence)\n",
    "    sentence = re.sub(r\"\\'ll\", \" will\", sentence)\n",
    "    sentence = re.sub(r\"\\'t\", \" not\", sentence)\n",
    "    sentence = re.sub(r\"\\'ve\", \" have\", sentence)\n",
    "    sentence = re.sub(r\"\\'m\", \" am\", sentence)\n",
    "    return sentence\n",
    "\n",
    "def cleanPunc(sentence): \n",
    "    cleaned = re.sub(r'[?|!|\\'|\"|#]',r'',sentence)\n",
    "    cleaned = re.sub(r'[.|,|)|(|\\|/]',r' ',cleaned)\n",
    "    cleaned = cleaned.strip()\n",
    "    cleaned = cleaned.replace(\"\\n\",\" \")\n",
    "    return cleaned\n",
    "\n",
    "def keepAlpha(sentence):\n",
    "    alpha_sent = \"\"\n",
    "    for word in sentence.split():\n",
    "        alpha_word = re.sub('[^a-z A-Z]+', '', word)\n",
    "        alpha_sent += alpha_word\n",
    "        alpha_sent += \" \"\n",
    "    alpha_sent = alpha_sent.strip()\n",
    "    return alpha_sent\n",
    "\n",
    "def removeStopWords(sentence):\n",
    "    global re_stop_words\n",
    "    return re_stop_words.sub(\"\", sentence)"
   ]
  },
  {
   "cell_type": "code",
   "execution_count": 17,
   "id": "31b183cc",
   "metadata": {
    "execution": {
     "iopub.execute_input": "2023-11-02T15:53:56.537607Z",
     "iopub.status.busy": "2023-11-02T15:53:56.537311Z",
     "iopub.status.idle": "2023-11-02T15:53:56.551410Z",
     "shell.execute_reply": "2023-11-02T15:53:56.550566Z"
    },
    "papermill": {
     "duration": 0.026398,
     "end_time": "2023-11-02T15:53:56.553204",
     "exception": false,
     "start_time": "2023-11-02T15:53:56.526806",
     "status": "completed"
    },
    "tags": []
   },
   "outputs": [],
   "source": [
    "stopwords= set(['br', 'the', 'i', 'me', 'my', 'myself', 'we', 'our', 'ours', 'ourselves', 'you', \"you're\", \"you've\",\\\n",
    "            \"you'll\", \"you'd\", 'your', 'yours', 'yourself', 'yourselves', 'he', 'him', 'his', 'himself', \\\n",
    "            'she', \"she's\", 'her', 'hers', 'herself', 'it', \"it's\", 'its', 'itself', 'they', 'them', 'their',\\\n",
    "            'theirs', 'themselves', 'what', 'which', 'who', 'whom', 'this', 'that', \"that'll\", 'these', 'those', \\\n",
    "            'am', 'is', 'are', 'was', 'were', 'be', 'been', 'being', 'have', 'has', 'had', 'having', 'do', 'does', \\\n",
    "            'did', 'doing', 'a', 'an', 'the', 'and', 'but', 'if', 'or', 'because', 'as', 'until', 'while', 'of', \\\n",
    "            'at', 'by', 'for', 'with', 'about', 'against', 'between', 'into', 'through', 'during', 'before', 'after',\\\n",
    "            'above', 'below', 'to', 'from', 'up', 'down', 'in', 'out', 'on', 'off', 'over', 'under', 'again', 'further',\\\n",
    "            'then', 'once', 'here', 'there', 'when', 'where', 'why', 'how', 'all', 'any', 'both', 'each', 'few', 'more',\\\n",
    "            'most', 'other', 'some', 'such', 'only', 'own', 'same', 'so', 'than', 'too', 'very', \\\n",
    "            's', 't', 'can', 'will', 'just', 'don', \"don't\", 'should', \"should've\", 'now', 'd', 'll', 'm', 'o', 're', \\\n",
    "            've', 'y', 'ain', 'aren', \"aren't\", 'couldn', \"couldn't\", 'didn', \"didn't\", 'doesn', \"doesn't\", 'hadn',\\\n",
    "            \"hadn't\", 'hasn', \"hasn't\", 'haven', \"haven't\", 'isn', \"isn't\", 'ma', 'mightn', \"mightn't\", 'mustn',\\\n",
    "            \"mustn't\", 'needn', \"needn't\", 'shan', \"shan't\", 'shouldn', \"shouldn't\", 'wasn', \"wasn't\", 'weren', \"weren't\", \\\n",
    "            'won', \"won't\", 'wouldn', \"wouldn't\"])\n",
    "\n",
    "re_stop_words = re.compile(r\"\\b(\" + \"|\".join(stopwords) + \")\\\\W\", re.I)"
   ]
  },
  {
   "cell_type": "code",
   "execution_count": 18,
   "id": "9aed926a",
   "metadata": {
    "execution": {
     "iopub.execute_input": "2023-11-02T15:53:56.573747Z",
     "iopub.status.busy": "2023-11-02T15:53:56.573476Z",
     "iopub.status.idle": "2023-11-02T15:53:56.578306Z",
     "shell.execute_reply": "2023-11-02T15:53:56.577429Z"
    },
    "papermill": {
     "duration": 0.01708,
     "end_time": "2023-11-02T15:53:56.580177",
     "exception": false,
     "start_time": "2023-11-02T15:53:56.563097",
     "status": "completed"
    },
    "tags": []
   },
   "outputs": [],
   "source": [
    "stemmer = SnowballStemmer(\"english\")\n",
    "def stemming(sentence):\n",
    "    stemSentence = \"\"\n",
    "    for word in sentence.split():\n",
    "        stem = stemmer.stem(word)\n",
    "        stemSentence += stem\n",
    "        stemSentence += \" \"\n",
    "    stemSentence = stemSentence.strip()\n",
    "    return stemSentence"
   ]
  },
  {
   "cell_type": "code",
   "execution_count": 19,
   "id": "5d844748",
   "metadata": {
    "execution": {
     "iopub.execute_input": "2023-11-02T15:53:56.600766Z",
     "iopub.status.busy": "2023-11-02T15:53:56.600500Z",
     "iopub.status.idle": "2023-11-02T15:53:56.743094Z",
     "shell.execute_reply": "2023-11-02T15:53:56.742093Z"
    },
    "papermill": {
     "duration": 0.155563,
     "end_time": "2023-11-02T15:53:56.745521",
     "exception": false,
     "start_time": "2023-11-02T15:53:56.589958",
     "status": "completed"
    },
    "tags": []
   },
   "outputs": [],
   "source": [
    "final_df['Summary'] = final_df['Summary'] + \" The review is \" + final_df['Review']"
   ]
  },
  {
   "cell_type": "code",
   "execution_count": 20,
   "id": "0fcab9c4",
   "metadata": {
    "execution": {
     "iopub.execute_input": "2023-11-02T15:53:56.767070Z",
     "iopub.status.busy": "2023-11-02T15:53:56.766764Z",
     "iopub.status.idle": "2023-11-02T15:54:44.036026Z",
     "shell.execute_reply": "2023-11-02T15:54:44.034976Z"
    },
    "papermill": {
     "duration": 47.282899,
     "end_time": "2023-11-02T15:54:44.038552",
     "exception": false,
     "start_time": "2023-11-02T15:53:56.755653",
     "status": "completed"
    },
    "tags": []
   },
   "outputs": [],
   "source": [
    "final_df['Summary'] = final_df['Summary'].str.lower()\n",
    "final_df['Summary'] = final_df['Summary'].apply(decontract)\n",
    "final_df['Summary'] = final_df['Summary'].apply(cleanPunc)\n",
    "final_df['Summary'] = final_df['Summary'].apply(keepAlpha)\n",
    "final_df['Summary'] = final_df['Summary'].apply(removeStopWords)\n",
    "final_df['Summary'] = final_df['Summary'].apply(stemming)"
   ]
  },
  {
   "cell_type": "code",
   "execution_count": 21,
   "id": "c00aa4d1",
   "metadata": {
    "execution": {
     "iopub.execute_input": "2023-11-02T15:54:44.060134Z",
     "iopub.status.busy": "2023-11-02T15:54:44.059817Z",
     "iopub.status.idle": "2023-11-02T15:54:58.215068Z",
     "shell.execute_reply": "2023-11-02T15:54:58.214244Z"
    },
    "papermill": {
     "duration": 14.168051,
     "end_time": "2023-11-02T15:54:58.217216",
     "exception": false,
     "start_time": "2023-11-02T15:54:44.049165",
     "status": "completed"
    },
    "tags": []
   },
   "outputs": [],
   "source": [
    "from tensorflow.keras.preprocessing.text import Tokenizer\n",
    "from tensorflow.keras.preprocessing.sequence import pad_sequences\n",
    "\n",
    "tokenizer = Tokenizer(num_words=50000, lower=True)\n",
    "tokenizer.fit_on_texts(final_df['Summary'])\n",
    "sequences = tokenizer.texts_to_sequences(final_df['Summary'])\n",
    "x = pad_sequences(sequences, maxlen=200)"
   ]
  },
  {
   "cell_type": "code",
   "execution_count": 22,
   "id": "1f295806",
   "metadata": {
    "execution": {
     "iopub.execute_input": "2023-11-02T15:54:58.239073Z",
     "iopub.status.busy": "2023-11-02T15:54:58.238500Z",
     "iopub.status.idle": "2023-11-02T15:54:58.257542Z",
     "shell.execute_reply": "2023-11-02T15:54:58.256691Z"
    },
    "papermill": {
     "duration": 0.031665,
     "end_time": "2023-11-02T15:54:58.259428",
     "exception": false,
     "start_time": "2023-11-02T15:54:58.227763",
     "status": "completed"
    },
    "tags": []
   },
   "outputs": [
    {
     "data": {
      "text/html": [
       "<div>\n",
       "<style scoped>\n",
       "    .dataframe tbody tr th:only-of-type {\n",
       "        vertical-align: middle;\n",
       "    }\n",
       "\n",
       "    .dataframe tbody tr th {\n",
       "        vertical-align: top;\n",
       "    }\n",
       "\n",
       "    .dataframe thead th {\n",
       "        text-align: right;\n",
       "    }\n",
       "</style>\n",
       "<table border=\"1\" class=\"dataframe\">\n",
       "  <thead>\n",
       "    <tr style=\"text-align: right;\">\n",
       "      <th></th>\n",
       "      <th>product_name</th>\n",
       "      <th>product_price</th>\n",
       "      <th>Rate</th>\n",
       "      <th>Review</th>\n",
       "      <th>Summary</th>\n",
       "      <th>positive</th>\n",
       "      <th>negative</th>\n",
       "      <th>neutral</th>\n",
       "    </tr>\n",
       "  </thead>\n",
       "  <tbody>\n",
       "    <tr>\n",
       "      <th>0</th>\n",
       "      <td>Candes 12 L Room/Personal Air Cooler??????(Whi...</td>\n",
       "      <td>3999</td>\n",
       "      <td>5</td>\n",
       "      <td>super!</td>\n",
       "      <td>great cooler excel air flow price amaz unbelie...</td>\n",
       "      <td>1.0</td>\n",
       "      <td>0.0</td>\n",
       "      <td>0.0</td>\n",
       "    </tr>\n",
       "    <tr>\n",
       "      <th>1</th>\n",
       "      <td>Candes 12 L Room/Personal Air Cooler??????(Whi...</td>\n",
       "      <td>3999</td>\n",
       "      <td>5</td>\n",
       "      <td>awesome</td>\n",
       "      <td>best budget fit cooler nice cool review awesom</td>\n",
       "      <td>1.0</td>\n",
       "      <td>0.0</td>\n",
       "      <td>0.0</td>\n",
       "    </tr>\n",
       "    <tr>\n",
       "      <th>2</th>\n",
       "      <td>Candes 12 L Room/Personal Air Cooler??????(Whi...</td>\n",
       "      <td>3999</td>\n",
       "      <td>3</td>\n",
       "      <td>fair</td>\n",
       "      <td>qualiti good power air decent review fair</td>\n",
       "      <td>1.0</td>\n",
       "      <td>0.0</td>\n",
       "      <td>0.0</td>\n",
       "    </tr>\n",
       "    <tr>\n",
       "      <th>3</th>\n",
       "      <td>Candes 12 L Room/Personal Air Cooler??????(Whi...</td>\n",
       "      <td>3999</td>\n",
       "      <td>1</td>\n",
       "      <td>useless product</td>\n",
       "      <td>bad product fan review useless product</td>\n",
       "      <td>0.0</td>\n",
       "      <td>1.0</td>\n",
       "      <td>0.0</td>\n",
       "    </tr>\n",
       "    <tr>\n",
       "      <th>4</th>\n",
       "      <td>Candes 12 L Room/Personal Air Cooler??????(Whi...</td>\n",
       "      <td>3999</td>\n",
       "      <td>3</td>\n",
       "      <td>fair</td>\n",
       "      <td>ok ok product review fair</td>\n",
       "      <td>0.0</td>\n",
       "      <td>0.0</td>\n",
       "      <td>1.0</td>\n",
       "    </tr>\n",
       "    <tr>\n",
       "      <th>...</th>\n",
       "      <td>...</td>\n",
       "      <td>...</td>\n",
       "      <td>...</td>\n",
       "      <td>...</td>\n",
       "      <td>...</td>\n",
       "      <td>...</td>\n",
       "      <td>...</td>\n",
       "      <td>...</td>\n",
       "    </tr>\n",
       "    <tr>\n",
       "      <th>205036</th>\n",
       "      <td>cello Pack of 18 Opalware Cello Dazzle Lush Fi...</td>\n",
       "      <td>1299</td>\n",
       "      <td>5</td>\n",
       "      <td>great product</td>\n",
       "      <td>good product review great product</td>\n",
       "      <td>1.0</td>\n",
       "      <td>0.0</td>\n",
       "      <td>0.0</td>\n",
       "    </tr>\n",
       "    <tr>\n",
       "      <th>205037</th>\n",
       "      <td>cello Pack of 18 Opalware Cello Dazzle Lush Fi...</td>\n",
       "      <td>1299</td>\n",
       "      <td>5</td>\n",
       "      <td>terrific</td>\n",
       "      <td>small good review terrif</td>\n",
       "      <td>1.0</td>\n",
       "      <td>0.0</td>\n",
       "      <td>0.0</td>\n",
       "    </tr>\n",
       "    <tr>\n",
       "      <th>205038</th>\n",
       "      <td>cello Pack of 18 Opalware Cello Dazzle Lush Fi...</td>\n",
       "      <td>1299</td>\n",
       "      <td>5</td>\n",
       "      <td>fabulous!</td>\n",
       "      <td>nice gift review fabul</td>\n",
       "      <td>1.0</td>\n",
       "      <td>0.0</td>\n",
       "      <td>0.0</td>\n",
       "    </tr>\n",
       "    <tr>\n",
       "      <th>205039</th>\n",
       "      <td>cello Pack of 18 Opalware Cello Dazzle Lush Fi...</td>\n",
       "      <td>1299</td>\n",
       "      <td>5</td>\n",
       "      <td>terrific</td>\n",
       "      <td>superb realli like review terrif</td>\n",
       "      <td>1.0</td>\n",
       "      <td>0.0</td>\n",
       "      <td>0.0</td>\n",
       "    </tr>\n",
       "    <tr>\n",
       "      <th>205040</th>\n",
       "      <td>cello Pack of 18 Opalware Cello Dazzle Lush Fi...</td>\n",
       "      <td>1299</td>\n",
       "      <td>5</td>\n",
       "      <td>classy product</td>\n",
       "      <td>fabul look osm review classi product</td>\n",
       "      <td>0.0</td>\n",
       "      <td>0.0</td>\n",
       "      <td>1.0</td>\n",
       "    </tr>\n",
       "  </tbody>\n",
       "</table>\n",
       "<p>205041 rows × 8 columns</p>\n",
       "</div>"
      ],
      "text/plain": [
       "                                             product_name product_price Rate  \\\n",
       "0       Candes 12 L Room/Personal Air Cooler??????(Whi...          3999    5   \n",
       "1       Candes 12 L Room/Personal Air Cooler??????(Whi...          3999    5   \n",
       "2       Candes 12 L Room/Personal Air Cooler??????(Whi...          3999    3   \n",
       "3       Candes 12 L Room/Personal Air Cooler??????(Whi...          3999    1   \n",
       "4       Candes 12 L Room/Personal Air Cooler??????(Whi...          3999    3   \n",
       "...                                                   ...           ...  ...   \n",
       "205036  cello Pack of 18 Opalware Cello Dazzle Lush Fi...          1299    5   \n",
       "205037  cello Pack of 18 Opalware Cello Dazzle Lush Fi...          1299    5   \n",
       "205038  cello Pack of 18 Opalware Cello Dazzle Lush Fi...          1299    5   \n",
       "205039  cello Pack of 18 Opalware Cello Dazzle Lush Fi...          1299    5   \n",
       "205040  cello Pack of 18 Opalware Cello Dazzle Lush Fi...          1299    5   \n",
       "\n",
       "                 Review                                            Summary  \\\n",
       "0                super!  great cooler excel air flow price amaz unbelie...   \n",
       "1               awesome     best budget fit cooler nice cool review awesom   \n",
       "2                  fair          qualiti good power air decent review fair   \n",
       "3       useless product             bad product fan review useless product   \n",
       "4                  fair                          ok ok product review fair   \n",
       "...                 ...                                                ...   \n",
       "205036    great product                  good product review great product   \n",
       "205037         terrific                           small good review terrif   \n",
       "205038        fabulous!                             nice gift review fabul   \n",
       "205039         terrific                   superb realli like review terrif   \n",
       "205040   classy product               fabul look osm review classi product   \n",
       "\n",
       "        positive  negative  neutral  \n",
       "0            1.0       0.0      0.0  \n",
       "1            1.0       0.0      0.0  \n",
       "2            1.0       0.0      0.0  \n",
       "3            0.0       1.0      0.0  \n",
       "4            0.0       0.0      1.0  \n",
       "...          ...       ...      ...  \n",
       "205036       1.0       0.0      0.0  \n",
       "205037       1.0       0.0      0.0  \n",
       "205038       1.0       0.0      0.0  \n",
       "205039       1.0       0.0      0.0  \n",
       "205040       0.0       0.0      1.0  \n",
       "\n",
       "[205041 rows x 8 columns]"
      ]
     },
     "execution_count": 22,
     "metadata": {},
     "output_type": "execute_result"
    }
   ],
   "source": [
    "final_df"
   ]
  },
  {
   "cell_type": "code",
   "execution_count": 23,
   "id": "4052a628",
   "metadata": {
    "execution": {
     "iopub.execute_input": "2023-11-02T15:54:58.323331Z",
     "iopub.status.busy": "2023-11-02T15:54:58.322779Z",
     "iopub.status.idle": "2023-11-02T15:54:58.413074Z",
     "shell.execute_reply": "2023-11-02T15:54:58.412278Z"
    },
    "papermill": {
     "duration": 0.145875,
     "end_time": "2023-11-02T15:54:58.415363",
     "exception": false,
     "start_time": "2023-11-02T15:54:58.269488",
     "status": "completed"
    },
    "tags": []
   },
   "outputs": [],
   "source": [
    "X_train, X_test, y_train, y_test = train_test_split(x, \n",
    "                                                    final_df[final_df.columns[5:]], \n",
    "                                                    test_size=0.2)"
   ]
  },
  {
   "cell_type": "code",
   "execution_count": 24,
   "id": "e4b6e748",
   "metadata": {
    "execution": {
     "iopub.execute_input": "2023-11-02T15:54:58.437568Z",
     "iopub.status.busy": "2023-11-02T15:54:58.437077Z",
     "iopub.status.idle": "2023-11-02T15:54:58.450434Z",
     "shell.execute_reply": "2023-11-02T15:54:58.449568Z"
    },
    "papermill": {
     "duration": 0.026358,
     "end_time": "2023-11-02T15:54:58.452236",
     "exception": false,
     "start_time": "2023-11-02T15:54:58.425878",
     "status": "completed"
    },
    "tags": []
   },
   "outputs": [
    {
     "data": {
      "text/html": [
       "<div>\n",
       "<style scoped>\n",
       "    .dataframe tbody tr th:only-of-type {\n",
       "        vertical-align: middle;\n",
       "    }\n",
       "\n",
       "    .dataframe tbody tr th {\n",
       "        vertical-align: top;\n",
       "    }\n",
       "\n",
       "    .dataframe thead th {\n",
       "        text-align: right;\n",
       "    }\n",
       "</style>\n",
       "<table border=\"1\" class=\"dataframe\">\n",
       "  <thead>\n",
       "    <tr style=\"text-align: right;\">\n",
       "      <th></th>\n",
       "      <th>positive</th>\n",
       "      <th>negative</th>\n",
       "      <th>neutral</th>\n",
       "    </tr>\n",
       "  </thead>\n",
       "  <tbody>\n",
       "    <tr>\n",
       "      <th>143712</th>\n",
       "      <td>1.0</td>\n",
       "      <td>0.0</td>\n",
       "      <td>0.0</td>\n",
       "    </tr>\n",
       "    <tr>\n",
       "      <th>177147</th>\n",
       "      <td>0.0</td>\n",
       "      <td>1.0</td>\n",
       "      <td>0.0</td>\n",
       "    </tr>\n",
       "    <tr>\n",
       "      <th>146528</th>\n",
       "      <td>1.0</td>\n",
       "      <td>0.0</td>\n",
       "      <td>0.0</td>\n",
       "    </tr>\n",
       "    <tr>\n",
       "      <th>55269</th>\n",
       "      <td>1.0</td>\n",
       "      <td>0.0</td>\n",
       "      <td>0.0</td>\n",
       "    </tr>\n",
       "    <tr>\n",
       "      <th>98152</th>\n",
       "      <td>1.0</td>\n",
       "      <td>0.0</td>\n",
       "      <td>0.0</td>\n",
       "    </tr>\n",
       "    <tr>\n",
       "      <th>...</th>\n",
       "      <td>...</td>\n",
       "      <td>...</td>\n",
       "      <td>...</td>\n",
       "    </tr>\n",
       "    <tr>\n",
       "      <th>179774</th>\n",
       "      <td>0.0</td>\n",
       "      <td>1.0</td>\n",
       "      <td>0.0</td>\n",
       "    </tr>\n",
       "    <tr>\n",
       "      <th>143968</th>\n",
       "      <td>1.0</td>\n",
       "      <td>0.0</td>\n",
       "      <td>0.0</td>\n",
       "    </tr>\n",
       "    <tr>\n",
       "      <th>110291</th>\n",
       "      <td>1.0</td>\n",
       "      <td>0.0</td>\n",
       "      <td>0.0</td>\n",
       "    </tr>\n",
       "    <tr>\n",
       "      <th>49420</th>\n",
       "      <td>1.0</td>\n",
       "      <td>0.0</td>\n",
       "      <td>0.0</td>\n",
       "    </tr>\n",
       "    <tr>\n",
       "      <th>129388</th>\n",
       "      <td>0.0</td>\n",
       "      <td>0.0</td>\n",
       "      <td>1.0</td>\n",
       "    </tr>\n",
       "  </tbody>\n",
       "</table>\n",
       "<p>164032 rows × 3 columns</p>\n",
       "</div>"
      ],
      "text/plain": [
       "        positive  negative  neutral\n",
       "143712       1.0       0.0      0.0\n",
       "177147       0.0       1.0      0.0\n",
       "146528       1.0       0.0      0.0\n",
       "55269        1.0       0.0      0.0\n",
       "98152        1.0       0.0      0.0\n",
       "...          ...       ...      ...\n",
       "179774       0.0       1.0      0.0\n",
       "143968       1.0       0.0      0.0\n",
       "110291       1.0       0.0      0.0\n",
       "49420        1.0       0.0      0.0\n",
       "129388       0.0       0.0      1.0\n",
       "\n",
       "[164032 rows x 3 columns]"
      ]
     },
     "execution_count": 24,
     "metadata": {},
     "output_type": "execute_result"
    }
   ],
   "source": [
    "y_train"
   ]
  },
  {
   "cell_type": "code",
   "execution_count": 25,
   "id": "80dceeed",
   "metadata": {
    "execution": {
     "iopub.execute_input": "2023-11-02T15:54:58.474153Z",
     "iopub.status.busy": "2023-11-02T15:54:58.473894Z",
     "iopub.status.idle": "2023-11-02T15:54:58.477875Z",
     "shell.execute_reply": "2023-11-02T15:54:58.477050Z"
    },
    "papermill": {
     "duration": 0.017233,
     "end_time": "2023-11-02T15:54:58.479821",
     "exception": false,
     "start_time": "2023-11-02T15:54:58.462588",
     "status": "completed"
    },
    "tags": []
   },
   "outputs": [],
   "source": [
    "num_classes = y_train.shape[1]\n",
    "max_words = len(tokenizer.word_index) + 1\n",
    "maxlen = 200"
   ]
  },
  {
   "cell_type": "code",
   "execution_count": 26,
   "id": "9e639c90",
   "metadata": {
    "execution": {
     "iopub.execute_input": "2023-11-02T15:54:58.501713Z",
     "iopub.status.busy": "2023-11-02T15:54:58.501469Z",
     "iopub.status.idle": "2023-11-02T15:54:58.508826Z",
     "shell.execute_reply": "2023-11-02T15:54:58.508038Z"
    },
    "papermill": {
     "duration": 0.020453,
     "end_time": "2023-11-02T15:54:58.510643",
     "exception": false,
     "start_time": "2023-11-02T15:54:58.490190",
     "status": "completed"
    },
    "tags": []
   },
   "outputs": [],
   "source": [
    "from tensorflow.keras import backend as K\n",
    "\n",
    "def recall_m(y_true, y_pred):\n",
    "    true_positives = K.sum(K.round(K.clip(y_true * y_pred, 0, 1)))\n",
    "    possible_positives = K.sum(K.round(K.clip(y_true, 0, 1)))\n",
    "    recall = true_positives / (possible_positives + K.epsilon())\n",
    "    return recall\n",
    "\n",
    "def precision_m(y_true, y_pred):\n",
    "    true_positives = K.sum(K.round(K.clip(y_true * y_pred, 0, 1)))\n",
    "    predicted_positives = K.sum(K.round(K.clip(y_pred, 0, 1)))\n",
    "    precision = true_positives / (predicted_positives + K.epsilon())\n",
    "    return precision\n",
    "\n",
    "def f1_m(y_true, y_pred):\n",
    "    precision = precision_m(y_true, y_pred)\n",
    "    recall = recall_m(y_true, y_pred)\n",
    "    return 2*((precision*recall)/(precision+recall+K.epsilon()))"
   ]
  },
  {
   "cell_type": "code",
   "execution_count": 27,
   "id": "262e47bb",
   "metadata": {
    "execution": {
     "iopub.execute_input": "2023-11-02T15:54:58.532242Z",
     "iopub.status.busy": "2023-11-02T15:54:58.532001Z",
     "iopub.status.idle": "2023-11-02T15:54:58.537064Z",
     "shell.execute_reply": "2023-11-02T15:54:58.536225Z"
    },
    "papermill": {
     "duration": 0.018151,
     "end_time": "2023-11-02T15:54:58.539032",
     "exception": false,
     "start_time": "2023-11-02T15:54:58.520881",
     "status": "completed"
    },
    "tags": []
   },
   "outputs": [
    {
     "data": {
      "text/plain": [
       "3"
      ]
     },
     "execution_count": 27,
     "metadata": {},
     "output_type": "execute_result"
    }
   ],
   "source": [
    "num_classes"
   ]
  },
  {
   "cell_type": "code",
   "execution_count": 28,
   "id": "436fe683",
   "metadata": {
    "execution": {
     "iopub.execute_input": "2023-11-02T15:54:58.561018Z",
     "iopub.status.busy": "2023-11-02T15:54:58.560756Z",
     "iopub.status.idle": "2023-11-02T15:59:00.626733Z",
     "shell.execute_reply": "2023-11-02T15:59:00.625554Z"
    },
    "papermill": {
     "duration": 242.080061,
     "end_time": "2023-11-02T15:59:00.629507",
     "exception": false,
     "start_time": "2023-11-02T15:54:58.549446",
     "status": "completed"
    },
    "tags": []
   },
   "outputs": [
    {
     "name": "stdout",
     "output_type": "stream",
     "text": [
      "Epoch 1/70\n",
      "4101/4101 [==============================] - 68s 15ms/step - loss: 0.3581 - auc: 0.8889 - val_loss: 0.3545 - val_auc: 0.8952 - lr: 0.0010\n",
      "Epoch 2/70\n",
      "4101/4101 [==============================] - 26s 6ms/step - loss: 0.3487 - auc: 0.8979 - val_loss: 0.3555 - val_auc: 0.8928 - lr: 0.0010\n",
      "Epoch 3/70\n",
      "4101/4101 [==============================] - 24s 6ms/step - loss: 0.3309 - auc: 0.9098 - val_loss: 0.3625 - val_auc: 0.8884 - lr: 0.0010\n",
      "Epoch 4/70\n",
      "4101/4101 [==============================] - 25s 6ms/step - loss: 0.2977 - auc: 0.9275 - val_loss: 0.3948 - val_auc: 0.8827 - lr: 1.0000e-04\n",
      "Epoch 5/70\n",
      "4101/4101 [==============================] - 23s 6ms/step - loss: 0.2873 - auc: 0.9323 - val_loss: 0.4070 - val_auc: 0.8789 - lr: 1.0000e-04\n",
      "Epoch 6/70\n",
      "4101/4101 [==============================] - 25s 6ms/step - loss: 0.2796 - auc: 0.9360 - val_loss: 0.4142 - val_auc: 0.8777 - lr: 1.0000e-05\n",
      "Epoch 7/70\n",
      "4101/4101 [==============================] - 23s 6ms/step - loss: 0.2788 - auc: 0.9364 - val_loss: 0.4176 - val_auc: 0.8769 - lr: 1.0000e-05\n",
      "Epoch 8/70\n",
      "4101/4101 [==============================] - 24s 6ms/step - loss: 0.2779 - auc: 0.9366 - val_loss: 0.4181 - val_auc: 0.8769 - lr: 1.0000e-06\n"
     ]
    }
   ],
   "source": [
    "from tensorflow.keras.models import Sequential\n",
    "from tensorflow.keras.layers import LeakyReLU, Dense, Embedding, GlobalMaxPool1D, Dropout, Conv1D, LSTM, Bidirectional\n",
    "from tensorflow.keras.optimizers import Adam\n",
    "from tensorflow.keras.callbacks import ReduceLROnPlateau, EarlyStopping, ModelCheckpoint\n",
    "import tensorflow as tf\n",
    "\n",
    "# Increase model complexity by adding more layers and neurons\n",
    "filter_length = 300\n",
    "\n",
    "model = Sequential()\n",
    "model.add(Embedding(max_words, 128, input_length=maxlen))  # Increased embedding dimension\n",
    "model.add(Conv1D(128, 5, padding='valid', activation=LeakyReLU(alpha=0.01), strides=1))\n",
    "model.add(GlobalMaxPool1D())\n",
    "model.add(Dropout(0.2))\n",
    "model.add(Dense(256, activation=LeakyReLU(alpha=0.01)))\n",
    "model.add(Dropout(0.1))\n",
    "model.add(Dense(100, activation=LeakyReLU(alpha=0.01)))\n",
    "model.add(Dense(num_classes, activation='softmax'))\n",
    "\n",
    "model.compile(optimizer=Adam(learning_rate=0.001), loss='binary_crossentropy', metrics=[tf.keras.metrics.AUC()])\n",
    "\n",
    "callbacks = [\n",
    "    ReduceLROnPlateau(patience=2),  # Reduce learning rate on plateau\n",
    "    EarlyStopping(patience=7, restore_best_weights=True),  # Early stopping to prevent overfitting\n",
    "    ModelCheckpoint(filepath='model-conv1d.h5', save_best_only=True)\n",
    "]\n",
    "\n",
    "history = model.fit(X_train, y_train,\n",
    "                    epochs=70,  # Increased epochs\n",
    "                    batch_size=32,  # Increased batch size\n",
    "                    validation_split=0.2,\n",
    "                    callbacks=callbacks)"
   ]
  },
  {
   "cell_type": "code",
   "execution_count": 29,
   "id": "a5998c21",
   "metadata": {
    "execution": {
     "iopub.execute_input": "2023-11-02T15:59:01.168808Z",
     "iopub.status.busy": "2023-11-02T15:59:01.168107Z",
     "iopub.status.idle": "2023-11-02T15:59:01.261478Z",
     "shell.execute_reply": "2023-11-02T15:59:01.260590Z"
    },
    "papermill": {
     "duration": 0.364238,
     "end_time": "2023-11-02T15:59:01.263888",
     "exception": false,
     "start_time": "2023-11-02T15:59:00.899650",
     "status": "completed"
    },
    "tags": []
   },
   "outputs": [],
   "source": [
    "model.save('sub_new.h5')"
   ]
  },
  {
   "cell_type": "code",
   "execution_count": 30,
   "id": "5409a1b8",
   "metadata": {
    "execution": {
     "iopub.execute_input": "2023-11-02T15:59:01.844642Z",
     "iopub.status.busy": "2023-11-02T15:59:01.844024Z",
     "iopub.status.idle": "2023-11-02T15:59:05.004057Z",
     "shell.execute_reply": "2023-11-02T15:59:05.003162Z"
    },
    "papermill": {
     "duration": 3.464883,
     "end_time": "2023-11-02T15:59:05.006049",
     "exception": false,
     "start_time": "2023-11-02T15:59:01.541166",
     "status": "completed"
    },
    "tags": []
   },
   "outputs": [
    {
     "name": "stdout",
     "output_type": "stream",
     "text": [
      "1282/1282 [==============================] - 3s 2ms/step - loss: 0.3552 - auc: 0.8950\n",
      "auc: 0.8950294256210327\n"
     ]
    }
   ],
   "source": [
    "cnn_model = model\n",
    "metrics = cnn_model.evaluate(X_test, y_test)\n",
    "print(\"{}: {}\".format(model.metrics_names[1], metrics[1]))"
   ]
  },
  {
   "cell_type": "code",
   "execution_count": null,
   "id": "a89edada",
   "metadata": {
    "execution": {
     "iopub.status.busy": "2023-11-02T15:32:22.925780Z",
     "iopub.status.idle": "2023-11-02T15:32:22.926312Z",
     "shell.execute_reply": "2023-11-02T15:32:22.926077Z",
     "shell.execute_reply.started": "2023-11-02T15:32:22.926033Z"
    },
    "papermill": {
     "duration": 0.324986,
     "end_time": "2023-11-02T15:59:05.603223",
     "exception": false,
     "start_time": "2023-11-02T15:59:05.278237",
     "status": "completed"
    },
    "tags": []
   },
   "outputs": [],
   "source": []
  },
  {
   "cell_type": "code",
   "execution_count": null,
   "id": "1f678227",
   "metadata": {
    "execution": {
     "iopub.status.busy": "2023-11-02T15:32:22.927720Z",
     "iopub.status.idle": "2023-11-02T15:32:22.928194Z",
     "shell.execute_reply": "2023-11-02T15:32:22.927969Z",
     "shell.execute_reply.started": "2023-11-02T15:32:22.927948Z"
    },
    "papermill": {
     "duration": 0.2717,
     "end_time": "2023-11-02T15:59:06.147008",
     "exception": false,
     "start_time": "2023-11-02T15:59:05.875308",
     "status": "completed"
    },
    "tags": []
   },
   "outputs": [],
   "source": []
  },
  {
   "cell_type": "code",
   "execution_count": null,
   "id": "ae415993",
   "metadata": {
    "papermill": {
     "duration": 0.305564,
     "end_time": "2023-11-02T15:59:06.733143",
     "exception": false,
     "start_time": "2023-11-02T15:59:06.427579",
     "status": "completed"
    },
    "tags": []
   },
   "outputs": [],
   "source": []
  }
 ],
 "metadata": {
  "kernelspec": {
   "display_name": "Python 3",
   "language": "python",
   "name": "python3"
  },
  "language_info": {
   "codemirror_mode": {
    "name": "ipython",
    "version": 3
   },
   "file_extension": ".py",
   "mimetype": "text/x-python",
   "name": "python",
   "nbconvert_exporter": "python",
   "pygments_lexer": "ipython3",
   "version": "3.10.12"
  },
  "papermill": {
   "default_parameters": {},
   "duration": 835.896833,
   "end_time": "2023-11-02T15:59:10.198396",
   "environment_variables": {},
   "exception": null,
   "input_path": "__notebook__.ipynb",
   "output_path": "__notebook__.ipynb",
   "parameters": {},
   "start_time": "2023-11-02T15:45:14.301563",
   "version": "2.4.0"
  }
 },
 "nbformat": 4,
 "nbformat_minor": 5
}
